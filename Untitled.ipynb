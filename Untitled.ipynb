{
 "cells": [
  {
   "cell_type": "code",
   "execution_count": 1,
   "metadata": {},
   "outputs": [],
   "source": [
    "import pandas as pd\n",
    "import numpy as np\n",
    "import matplotlib.pyplot as plt\n",
    "import warnings\n",
    "warnings.filterwarnings(\"ignore\")\n",
    "from sklearn.model_selection import train_test_split"
   ]
  },
  {
   "cell_type": "code",
   "execution_count": 2,
   "metadata": {},
   "outputs": [],
   "source": [
    "accidents = pd.read_csv('Accident_Information.csv')"
   ]
  },
  {
   "cell_type": "code",
   "execution_count": 3,
   "metadata": {},
   "outputs": [],
   "source": [
    "vehicles = pd.read_csv('Vehicle_Information.csv',encoding = 'ISO-8859-1')"
   ]
  },
  {
   "cell_type": "code",
   "execution_count": 4,
   "metadata": {},
   "outputs": [
    {
     "name": "stdout",
     "output_type": "stream",
     "text": [
      "<class 'pandas.core.frame.DataFrame'>\n",
      "RangeIndex: 2047256 entries, 0 to 2047255\n",
      "Data columns (total 8 columns):\n",
      "Accident_Severity                              object\n",
      "Carriageway_Hazards                            object\n",
      "Date                                           datetime64[ns]\n",
      "Day_of_Week                                    object\n",
      "Did_Police_Officer_Attend_Scene_of_Accident    float64\n",
      "Junction_Control                               object\n",
      "Junction_Detail                                object\n",
      "Latitude                                       float64\n",
      "dtypes: datetime64[ns](1), float64(2), object(5)\n",
      "memory usage: 125.0+ MB\n"
     ]
    }
   ],
   "source": [
    "accidents['Date']= pd.to_datetime(accidents['Date'], format=\"%Y-%m-%d\")\n",
    "# check\n",
    "accidents.iloc[:, 5:13].info()"
   ]
  },
  {
   "cell_type": "code",
   "execution_count": 5,
   "metadata": {},
   "outputs": [],
   "source": [
    "# slice first and second string from time column\n",
    "accidents['Hour'] = accidents['Time'].str[0:2]\n",
    "\n",
    "# convert new column to numeric datetype\n",
    "accidents['Hour'] = pd.to_numeric(accidents['Hour'])\n",
    "\n",
    "# drop null values in our new column\n",
    "accidents = accidents.dropna(subset=['Hour'])\n",
    "\n",
    "# cast to integer values\n",
    "accidents['Hour'] = accidents['Hour'].astype('int')"
   ]
  },
  {
   "cell_type": "code",
   "execution_count": 6,
   "metadata": {},
   "outputs": [],
   "source": [
    "# define a function that turns the hours into daytime groups\n",
    "def when_was_it(hour):\n",
    "    if hour >= 5 and hour < 10:\n",
    "        return \"1\"\n",
    "    elif hour >= 10 and hour < 15:\n",
    "        return \"2\"\n",
    "    elif hour >= 15 and hour < 19:\n",
    "        return \"3\"\n",
    "    elif hour >= 19 and hour < 23:\n",
    "        return \"4\"\n",
    "    else:\n",
    "        return \"5\""
   ]
  },
  {
   "cell_type": "code",
   "execution_count": 7,
   "metadata": {},
   "outputs": [
    {
     "data": {
      "text/html": [
       "<div>\n",
       "<style scoped>\n",
       "    .dataframe tbody tr th:only-of-type {\n",
       "        vertical-align: middle;\n",
       "    }\n",
       "\n",
       "    .dataframe tbody tr th {\n",
       "        vertical-align: top;\n",
       "    }\n",
       "\n",
       "    .dataframe thead th {\n",
       "        text-align: right;\n",
       "    }\n",
       "</style>\n",
       "<table border=\"1\" class=\"dataframe\">\n",
       "  <thead>\n",
       "    <tr style=\"text-align: right;\">\n",
       "      <th></th>\n",
       "      <th>Time</th>\n",
       "      <th>Hour</th>\n",
       "      <th>Daytime</th>\n",
       "    </tr>\n",
       "  </thead>\n",
       "  <tbody>\n",
       "    <tr>\n",
       "      <th>0</th>\n",
       "      <td>17:42</td>\n",
       "      <td>17</td>\n",
       "      <td>3</td>\n",
       "    </tr>\n",
       "    <tr>\n",
       "      <th>1</th>\n",
       "      <td>17:36</td>\n",
       "      <td>17</td>\n",
       "      <td>3</td>\n",
       "    </tr>\n",
       "    <tr>\n",
       "      <th>2</th>\n",
       "      <td>00:15</td>\n",
       "      <td>0</td>\n",
       "      <td>5</td>\n",
       "    </tr>\n",
       "    <tr>\n",
       "      <th>3</th>\n",
       "      <td>10:35</td>\n",
       "      <td>10</td>\n",
       "      <td>2</td>\n",
       "    </tr>\n",
       "    <tr>\n",
       "      <th>4</th>\n",
       "      <td>21:13</td>\n",
       "      <td>21</td>\n",
       "      <td>4</td>\n",
       "    </tr>\n",
       "  </tbody>\n",
       "</table>\n",
       "</div>"
      ],
      "text/plain": [
       "    Time  Hour Daytime\n",
       "0  17:42    17       3\n",
       "1  17:36    17       3\n",
       "2  00:15     0       5\n",
       "3  10:35    10       2\n",
       "4  21:13    21       4"
      ]
     },
     "execution_count": 7,
     "metadata": {},
     "output_type": "execute_result"
    }
   ],
   "source": [
    "# apply this function to our temporary hour column\n",
    "accidents['Daytime'] = accidents['Hour'].apply(when_was_it)\n",
    "accidents[['Time', 'Hour', 'Daytime']].head()"
   ]
  },
  {
   "cell_type": "code",
   "execution_count": 8,
   "metadata": {},
   "outputs": [],
   "source": [
    "# drop old time column and temporary hour column\n",
    "accidents = accidents.drop(columns=['Time', 'Hour'])"
   ]
  },
  {
   "cell_type": "code",
   "execution_count": 9,
   "metadata": {},
   "outputs": [],
   "source": [
    "accidents = \\\n",
    "accidents.drop(columns=\n",
    "   ['Did_Police_Officer_Attend_Scene_of_Accident',\n",
    "    'Location_Easting_OSGR', 'Location_Northing_OSGR', \n",
    "    'Longitude', 'Latitude', 'LSOA_of_Accident_Location',\n",
    "    'Pedestrian_Crossing-Human_Control', 'Pedestrian_Crossing-Physical_Facilities',\n",
    "    'InScotland','Date','Police_Force','Junction_Detail','Junction_Control',\n",
    "    'Special_Conditions_at_Site','Carriageway_Hazards','Local_Authority_(District)',\n",
    "    'Local_Authority_(Highway)'])"
   ]
  },
  {
   "cell_type": "code",
   "execution_count": 10,
   "metadata": {},
   "outputs": [],
   "source": [
    "accidents = accidents.dropna()"
   ]
  },
  {
   "cell_type": "code",
   "execution_count": 11,
   "metadata": {},
   "outputs": [],
   "source": [
    "# combine the accidents with the vehicles table\n",
    "df = pd.merge(accidents,vehicles, on='Accident_Index')"
   ]
  },
  {
   "cell_type": "code",
   "execution_count": 12,
   "metadata": {},
   "outputs": [
    {
     "data": {
      "text/plain": [
       "(1230340, 40)"
      ]
     },
     "execution_count": 12,
     "metadata": {},
     "output_type": "execute_result"
    }
   ],
   "source": [
    "df.shape"
   ]
  },
  {
   "cell_type": "code",
   "execution_count": 13,
   "metadata": {},
   "outputs": [
    {
     "data": {
      "text/plain": [
       "Accident_Index                           0\n",
       "Age_Band_of_Driver                       0\n",
       "Age_of_Vehicle                      358149\n",
       "Driver_Home_Area_Type                    0\n",
       "Driver_IMD_Decile                   734812\n",
       "Engine_Capacity_.CC.                265861\n",
       "Hit_Object_in_Carriageway                0\n",
       "Hit_Object_off_Carriageway               0\n",
       "Journey_Purpose_of_Driver                0\n",
       "Junction_Location                        0\n",
       "make                                110845\n",
       "model                               325331\n",
       "Propulsion_Code                     245843\n",
       "Sex_of_Driver                            0\n",
       "Skidding_and_Overturning                 0\n",
       "Towing_and_Articulation                  0\n",
       "Vehicle_Leaving_Carriageway              0\n",
       "Vehicle_Location.Restricted_Lane      1317\n",
       "Vehicle_Manoeuvre                        0\n",
       "Vehicle_Reference                        0\n",
       "Vehicle_Type                             0\n",
       "Was_Vehicle_Left_Hand_Drive              0\n",
       "X1st_Point_of_Impact                     0\n",
       "Year                                     0\n",
       "dtype: int64"
      ]
     },
     "execution_count": 13,
     "metadata": {},
     "output_type": "execute_result"
    }
   ],
   "source": [
    "vehicles.isna().sum()"
   ]
  },
  {
   "cell_type": "code",
   "execution_count": 14,
   "metadata": {},
   "outputs": [],
   "source": [
    "df.drop(columns=['Accident_Index'],axis=1,inplace=True)"
   ]
  },
  {
   "cell_type": "code",
   "execution_count": 15,
   "metadata": {},
   "outputs": [],
   "source": [
    "df1,df = train_test_split(df,test_size=0.2)"
   ]
  },
  {
   "cell_type": "code",
   "execution_count": 30,
   "metadata": {},
   "outputs": [],
   "source": [
    "df1,df = train_test_split(df1,test_size=0.2)"
   ]
  },
  {
   "cell_type": "code",
   "execution_count": 16,
   "metadata": {},
   "outputs": [
    {
     "data": {
      "text/plain": [
       "1st_Road_Class                          0\n",
       "1st_Road_Number                         0\n",
       "2nd_Road_Class                          0\n",
       "2nd_Road_Number                         0\n",
       "Accident_Severity                       0\n",
       "Day_of_Week                             0\n",
       "Light_Conditions                        0\n",
       "Number_of_Casualties                    0\n",
       "Number_of_Vehicles                      0\n",
       "Road_Surface_Conditions                 0\n",
       "Road_Type                               0\n",
       "Speed_limit                             0\n",
       "Urban_or_Rural_Area                     0\n",
       "Weather_Conditions                      0\n",
       "Year_x                                  0\n",
       "Daytime                                 0\n",
       "Age_Band_of_Driver                      0\n",
       "Age_of_Vehicle                      40194\n",
       "Driver_Home_Area_Type                   0\n",
       "Driver_IMD_Decile                   79907\n",
       "Engine_Capacity_.CC.                29548\n",
       "Hit_Object_in_Carriageway               0\n",
       "Hit_Object_off_Carriageway              0\n",
       "Journey_Purpose_of_Driver               0\n",
       "Junction_Location                       0\n",
       "make                                13767\n",
       "model                               34886\n",
       "Propulsion_Code                     27773\n",
       "Sex_of_Driver                           0\n",
       "Skidding_and_Overturning                0\n",
       "Towing_and_Articulation                 0\n",
       "Vehicle_Leaving_Carriageway             0\n",
       "Vehicle_Location.Restricted_Lane      109\n",
       "Vehicle_Manoeuvre                       0\n",
       "Vehicle_Reference                       0\n",
       "Vehicle_Type                            0\n",
       "Was_Vehicle_Left_Hand_Drive             0\n",
       "X1st_Point_of_Impact                    0\n",
       "Year_y                                  0\n",
       "dtype: int64"
      ]
     },
     "execution_count": 16,
     "metadata": {},
     "output_type": "execute_result"
    }
   ],
   "source": [
    "df.isna().sum()"
   ]
  },
  {
   "cell_type": "code",
   "execution_count": 17,
   "metadata": {},
   "outputs": [],
   "source": [
    "df.drop(['model'],axis=1,inplace=True)"
   ]
  },
  {
   "cell_type": "code",
   "execution_count": 18,
   "metadata": {},
   "outputs": [],
   "source": [
    "df = df.dropna()"
   ]
  },
  {
   "cell_type": "code",
   "execution_count": 19,
   "metadata": {},
   "outputs": [],
   "source": [
    "target = df[['Accident_Severity']]"
   ]
  },
  {
   "cell_type": "code",
   "execution_count": 20,
   "metadata": {},
   "outputs": [],
   "source": [
    "df.drop(['Accident_Severity'],axis=1,inplace=True)"
   ]
  },
  {
   "cell_type": "code",
   "execution_count": 21,
   "metadata": {},
   "outputs": [
    {
     "data": {
      "text/html": [
       "<div>\n",
       "<style scoped>\n",
       "    .dataframe tbody tr th:only-of-type {\n",
       "        vertical-align: middle;\n",
       "    }\n",
       "\n",
       "    .dataframe tbody tr th {\n",
       "        vertical-align: top;\n",
       "    }\n",
       "\n",
       "    .dataframe thead th {\n",
       "        text-align: right;\n",
       "    }\n",
       "</style>\n",
       "<table border=\"1\" class=\"dataframe\">\n",
       "  <thead>\n",
       "    <tr style=\"text-align: right;\">\n",
       "      <th></th>\n",
       "      <th>Driver_Home_Area_Type</th>\n",
       "      <th>Hit_Object_in_Carriageway</th>\n",
       "      <th>Hit_Object_off_Carriageway</th>\n",
       "      <th>Journey_Purpose_of_Driver</th>\n",
       "      <th>Junction_Location</th>\n",
       "      <th>make</th>\n",
       "      <th>Propulsion_Code</th>\n",
       "      <th>Sex_of_Driver</th>\n",
       "      <th>Skidding_and_Overturning</th>\n",
       "      <th>Towing_and_Articulation</th>\n",
       "      <th>Vehicle_Leaving_Carriageway</th>\n",
       "      <th>Vehicle_Manoeuvre</th>\n",
       "      <th>Vehicle_Type</th>\n",
       "      <th>Was_Vehicle_Left_Hand_Drive</th>\n",
       "      <th>X1st_Point_of_Impact</th>\n",
       "    </tr>\n",
       "  </thead>\n",
       "  <tbody>\n",
       "    <tr>\n",
       "      <th>338881</th>\n",
       "      <td>Urban area</td>\n",
       "      <td>None</td>\n",
       "      <td>None</td>\n",
       "      <td>Other/Not known (2005-10)</td>\n",
       "      <td>Mid Junction - on roundabout or on main road</td>\n",
       "      <td>VAUXHALL</td>\n",
       "      <td>Petrol</td>\n",
       "      <td>Male</td>\n",
       "      <td>None</td>\n",
       "      <td>No tow/articulation</td>\n",
       "      <td>Did not leave carriageway</td>\n",
       "      <td>Reversing</td>\n",
       "      <td>Car</td>\n",
       "      <td>No</td>\n",
       "      <td>Back</td>\n",
       "    </tr>\n",
       "    <tr>\n",
       "      <th>697105</th>\n",
       "      <td>Urban area</td>\n",
       "      <td>None</td>\n",
       "      <td>None</td>\n",
       "      <td>Not known</td>\n",
       "      <td>Mid Junction - on roundabout or on main road</td>\n",
       "      <td>DENNIS</td>\n",
       "      <td>Heavy oil</td>\n",
       "      <td>Male</td>\n",
       "      <td>None</td>\n",
       "      <td>No tow/articulation</td>\n",
       "      <td>Did not leave carriageway</td>\n",
       "      <td>Moving off</td>\n",
       "      <td>Bus or coach (17 or more pass seats)</td>\n",
       "      <td>No</td>\n",
       "      <td>Front</td>\n",
       "    </tr>\n",
       "    <tr>\n",
       "      <th>692933</th>\n",
       "      <td>Small town</td>\n",
       "      <td>None</td>\n",
       "      <td>None</td>\n",
       "      <td>Not known</td>\n",
       "      <td>Cleared junction or waiting/parked at junction...</td>\n",
       "      <td>GILERA</td>\n",
       "      <td>Petrol</td>\n",
       "      <td>Female</td>\n",
       "      <td>Skidded</td>\n",
       "      <td>No tow/articulation</td>\n",
       "      <td>Did not leave carriageway</td>\n",
       "      <td>Turning left</td>\n",
       "      <td>Motorcycle 125cc and under</td>\n",
       "      <td>No</td>\n",
       "      <td>Nearside</td>\n",
       "    </tr>\n",
       "    <tr>\n",
       "      <th>122209</th>\n",
       "      <td>Rural</td>\n",
       "      <td>None</td>\n",
       "      <td>None</td>\n",
       "      <td>Data missing or out of range</td>\n",
       "      <td>Approaching junction or waiting/parked at junc...</td>\n",
       "      <td>VAUXHALL</td>\n",
       "      <td>Petrol</td>\n",
       "      <td>Female</td>\n",
       "      <td>None</td>\n",
       "      <td>No tow/articulation</td>\n",
       "      <td>Did not leave carriageway</td>\n",
       "      <td>Turning right</td>\n",
       "      <td>Car</td>\n",
       "      <td>Data missing or out of range</td>\n",
       "      <td>Front</td>\n",
       "    </tr>\n",
       "    <tr>\n",
       "      <th>112070</th>\n",
       "      <td>Urban area</td>\n",
       "      <td>None</td>\n",
       "      <td>None</td>\n",
       "      <td>Journey as part of work</td>\n",
       "      <td>Approaching junction or waiting/parked at junc...</td>\n",
       "      <td>NISSAN</td>\n",
       "      <td>Petrol</td>\n",
       "      <td>Female</td>\n",
       "      <td>None</td>\n",
       "      <td>No tow/articulation</td>\n",
       "      <td>Did not leave carriageway</td>\n",
       "      <td>Moving off</td>\n",
       "      <td>Car</td>\n",
       "      <td>No</td>\n",
       "      <td>Nearside</td>\n",
       "    </tr>\n",
       "  </tbody>\n",
       "</table>\n",
       "</div>"
      ],
      "text/plain": [
       "       Driver_Home_Area_Type Hit_Object_in_Carriageway  \\\n",
       "338881            Urban area                      None   \n",
       "697105            Urban area                      None   \n",
       "692933            Small town                      None   \n",
       "122209                 Rural                      None   \n",
       "112070            Urban area                      None   \n",
       "\n",
       "       Hit_Object_off_Carriageway     Journey_Purpose_of_Driver  \\\n",
       "338881                       None     Other/Not known (2005-10)   \n",
       "697105                       None                     Not known   \n",
       "692933                       None                     Not known   \n",
       "122209                       None  Data missing or out of range   \n",
       "112070                       None       Journey as part of work   \n",
       "\n",
       "                                        Junction_Location      make  \\\n",
       "338881       Mid Junction - on roundabout or on main road  VAUXHALL   \n",
       "697105       Mid Junction - on roundabout or on main road    DENNIS   \n",
       "692933  Cleared junction or waiting/parked at junction...    GILERA   \n",
       "122209  Approaching junction or waiting/parked at junc...  VAUXHALL   \n",
       "112070  Approaching junction or waiting/parked at junc...    NISSAN   \n",
       "\n",
       "       Propulsion_Code Sex_of_Driver Skidding_and_Overturning  \\\n",
       "338881          Petrol          Male                     None   \n",
       "697105       Heavy oil          Male                     None   \n",
       "692933          Petrol        Female                  Skidded   \n",
       "122209          Petrol        Female                     None   \n",
       "112070          Petrol        Female                     None   \n",
       "\n",
       "       Towing_and_Articulation Vehicle_Leaving_Carriageway Vehicle_Manoeuvre  \\\n",
       "338881     No tow/articulation   Did not leave carriageway         Reversing   \n",
       "697105     No tow/articulation   Did not leave carriageway        Moving off   \n",
       "692933     No tow/articulation   Did not leave carriageway      Turning left   \n",
       "122209     No tow/articulation   Did not leave carriageway     Turning right   \n",
       "112070     No tow/articulation   Did not leave carriageway        Moving off   \n",
       "\n",
       "                                Vehicle_Type   Was_Vehicle_Left_Hand_Drive  \\\n",
       "338881                                   Car                            No   \n",
       "697105  Bus or coach (17 or more pass seats)                            No   \n",
       "692933            Motorcycle 125cc and under                            No   \n",
       "122209                                   Car  Data missing or out of range   \n",
       "112070                                   Car                            No   \n",
       "\n",
       "       X1st_Point_of_Impact  \n",
       "338881                 Back  \n",
       "697105                Front  \n",
       "692933             Nearside  \n",
       "122209                Front  \n",
       "112070             Nearside  "
      ]
     },
     "execution_count": 21,
     "metadata": {},
     "output_type": "execute_result"
    }
   ],
   "source": [
    "df[[col for col in df.columns if df[col].dtype == 'object']].iloc[:,10:30].head()"
   ]
  },
  {
   "cell_type": "code",
   "execution_count": 22,
   "metadata": {},
   "outputs": [],
   "source": [
    "obj_cols = [col for col in df.columns if df[col].dtype == 'object']"
   ]
  },
  {
   "cell_type": "code",
   "execution_count": 23,
   "metadata": {},
   "outputs": [],
   "source": [
    "for col in obj_cols:\n",
    "    df[col] = df[col].astype('category')"
   ]
  },
  {
   "cell_type": "code",
   "execution_count": 24,
   "metadata": {},
   "outputs": [],
   "source": [
    "cat_cols = obj_cols"
   ]
  },
  {
   "cell_type": "code",
   "execution_count": 25,
   "metadata": {},
   "outputs": [],
   "source": [
    "one_hot = pd.get_dummies(df[cat_cols],drop_first = True)"
   ]
  },
  {
   "cell_type": "code",
   "execution_count": 26,
   "metadata": {},
   "outputs": [],
   "source": [
    "df.drop(cat_cols,axis=1,inplace = True)"
   ]
  },
  {
   "cell_type": "code",
   "execution_count": 27,
   "metadata": {},
   "outputs": [],
   "source": [
    "df = pd.concat([df,one_hot],axis = 1)"
   ]
  },
  {
   "cell_type": "code",
   "execution_count": 28,
   "metadata": {},
   "outputs": [
    {
     "data": {
      "text/plain": [
       "(143585, 472)"
      ]
     },
     "execution_count": 28,
     "metadata": {},
     "output_type": "execute_result"
    }
   ],
   "source": [
    "df.shape"
   ]
  },
  {
   "cell_type": "code",
   "execution_count": 29,
   "metadata": {},
   "outputs": [],
   "source": [
    "features = df"
   ]
  },
  {
   "cell_type": "code",
   "execution_count": 30,
   "metadata": {},
   "outputs": [
    {
     "data": {
      "text/plain": [
       "Slight     0.876742\n",
       "Serious    0.115520\n",
       "Fatal      0.007738\n",
       "Name: Accident_Severity, dtype: float64"
      ]
     },
     "execution_count": 30,
     "metadata": {},
     "output_type": "execute_result"
    }
   ],
   "source": [
    "target['Accident_Severity'].value_counts(normalize=True)"
   ]
  },
  {
   "cell_type": "code",
   "execution_count": 63,
   "metadata": {},
   "outputs": [],
   "source": [
    "X_train, X_test, y_train, y_test = \\\n",
    "train_test_split(features, target, test_size=0.2)"
   ]
  },
  {
   "cell_type": "code",
   "execution_count": 64,
   "metadata": {},
   "outputs": [],
   "source": [
    "from imblearn.over_sampling import SMOTE"
   ]
  },
  {
   "cell_type": "code",
   "execution_count": 65,
   "metadata": {},
   "outputs": [
    {
     "name": "stdout",
     "output_type": "stream",
     "text": [
      "Before Upsampling with SMOTE:\n",
      "Slight     125887\n",
      "Serious     16587\n",
      "Fatal        1111\n",
      "Name: Accident_Severity, dtype: int64\n",
      "\n",
      "After Upsampling with SMOTE:\n",
      "Serious    100744\n",
      "Fatal      100744\n",
      "Slight     100744\n",
      "dtype: int64\n"
     ]
    },
    {
     "data": {
      "text/plain": [
       "(None, None)"
      ]
     },
     "execution_count": 65,
     "metadata": {},
     "output_type": "execute_result"
    }
   ],
   "source": [
    "# view previous class distribution\n",
    "print('Before Upsampling with SMOTE:'), print(target['Accident_Severity'].value_counts())\n",
    "\n",
    "# resample data ONLY using training data\n",
    "X_resampled, y_resampled = SMOTE().fit_sample(X_train, y_train) \n",
    "\n",
    "# view synthetic sample class distribution\n",
    "print('\\nAfter Upsampling with SMOTE:'), print(pd.Series(y_resampled).value_counts())"
   ]
  },
  {
   "cell_type": "code",
   "execution_count": 66,
   "metadata": {},
   "outputs": [],
   "source": [
    "X_train, X_test, y_train, y_test = train_test_split(X_resampled, y_resampled, random_state=0)"
   ]
  },
  {
   "cell_type": "code",
   "execution_count": 67,
   "metadata": {},
   "outputs": [],
   "source": [
    "# import classifier\n",
    "from sklearn.ensemble import RandomForestClassifier\n",
    "\n",
    "# import metrics\n",
    "from sklearn.metrics import classification_report, confusion_matrix\n",
    "\n",
    "# import evaluation tools\n",
    "from sklearn.model_selection import KFold, cross_val_score\n",
    "\n",
    "from sklearn.model_selection import RandomizedSearchCV"
   ]
  },
  {
   "cell_type": "code",
   "execution_count": 68,
   "metadata": {},
   "outputs": [
    {
     "data": {
      "text/plain": [
       "RandomForestClassifier(bootstrap=True, class_weight=None, criterion='entropy',\n",
       "                       max_depth=None, max_features='auto', max_leaf_nodes=None,\n",
       "                       min_impurity_decrease=0.0, min_impurity_split=None,\n",
       "                       min_samples_leaf=1, min_samples_split=2,\n",
       "                       min_weight_fraction_leaf=0.0, n_estimators=10, n_jobs=-1,\n",
       "                       oob_score=False, random_state=4, verbose=0,\n",
       "                       warm_start=False)"
      ]
     },
     "execution_count": 68,
     "metadata": {},
     "output_type": "execute_result"
    }
   ],
   "source": [
    "# instantiate second RandomForestClassifier with entropy and SMOTE\n",
    "rf = RandomForestClassifier(random_state=4, criterion='entropy', n_jobs=-1)\n",
    "\n",
    "# train\n",
    "rf.fit(X_train, y_train)"
   ]
  },
  {
   "cell_type": "code",
   "execution_count": 69,
   "metadata": {},
   "outputs": [],
   "source": [
    "y_train_preds = rf.predict(X_train)"
   ]
  },
  {
   "cell_type": "code",
   "execution_count": 70,
   "metadata": {},
   "outputs": [],
   "source": [
    "# predict\n",
    "y_test_preds = rf.predict(X_test)"
   ]
  },
  {
   "cell_type": "code",
   "execution_count": 71,
   "metadata": {},
   "outputs": [],
   "source": [
    "train_report = classification_report(y_test, y_test_preds)"
   ]
  },
  {
   "cell_type": "code",
   "execution_count": 72,
   "metadata": {},
   "outputs": [
    {
     "name": "stdout",
     "output_type": "stream",
     "text": [
      "              precision    recall  f1-score   support\n",
      "\n",
      "       Fatal       0.99      0.99      0.99     25017\n",
      "     Serious       0.98      0.87      0.92     25177\n",
      "      Slight       0.88      0.98      0.93     25364\n",
      "\n",
      "    accuracy                           0.95     75558\n",
      "   macro avg       0.95      0.95      0.95     75558\n",
      "weighted avg       0.95      0.95      0.95     75558\n",
      "\n"
     ]
    }
   ],
   "source": [
    "print(train_report)"
   ]
  },
  {
   "cell_type": "code",
   "execution_count": 73,
   "metadata": {},
   "outputs": [
    {
     "data": {
      "text/plain": [
       "array([0.90355632, 0.90135024, 0.9026377 ])"
      ]
     },
     "execution_count": 73,
     "metadata": {},
     "output_type": "execute_result"
    }
   ],
   "source": [
    "# cross-validation with F1 score (more appropriate to imbalanced classes)\n",
    "cross_val_score(rf, X_test, y_test, scoring='f1_macro', n_jobs=-1)"
   ]
  },
  {
   "cell_type": "code",
   "execution_count": 74,
   "metadata": {},
   "outputs": [],
   "source": [
    "acc_rf = (y_test_preds == y_test).sum().astype(float) / len(y_test_preds)*100"
   ]
  },
  {
   "cell_type": "code",
   "execution_count": 75,
   "metadata": {},
   "outputs": [
    {
     "data": {
      "text/plain": [
       "94.59488075385796"
      ]
     },
     "execution_count": 75,
     "metadata": {},
     "output_type": "execute_result"
    }
   ],
   "source": [
    "acc_rf"
   ]
  },
  {
   "cell_type": "code",
   "execution_count": null,
   "metadata": {},
   "outputs": [],
   "source": [
    "# instantiate second RandomForestClassifier with entropy and SMOTE\n",
    "rf2 = RandomForestClassifier(random_state=4, criterion='gini', n_jobs=-1)\n",
    "\n",
    "# train\n",
    "rf2.fit(X_train, y_train)"
   ]
  },
  {
   "cell_type": "code",
   "execution_count": null,
   "metadata": {},
   "outputs": [],
   "source": [
    "y_test_preds2 = rf2.predict(X_test)"
   ]
  },
  {
   "cell_type": "code",
   "execution_count": null,
   "metadata": {},
   "outputs": [],
   "source": [
    "acc_rf2 = (y_test_preds2 == y_test).sum().astype(float) / len(y_test_preds2)*100"
   ]
  },
  {
   "cell_type": "code",
   "execution_count": 86,
   "metadata": {},
   "outputs": [],
   "source": [
    "import glob\n",
    "import matplotlib.pyplot as plt\n",
    "import seaborn as sns"
   ]
  },
  {
   "cell_type": "code",
   "execution_count": 94,
   "metadata": {},
   "outputs": [
    {
     "data": {
      "image/png": "[encoded data removed]",
      "text/plain": [
       "<Figure size 720x360 with 1 Axes>"
      ]
     },
     "metadata": {
      "needs_background": "light"
     },
     "output_type": "display_data"
    }
   ],
   "source": [
    "# plot the important features\n",
    "feat_importances = pd.Series(rf.feature_importances_, index=features.columns)\n",
    "feat_importances.nlargest(20).sort_values().plot(kind='barh', color='steelblue', figsize=(10,5))\n",
    "plt.xlabel('Relative Feature Importance with Random Forest');"
   ]
  },
  {
   "cell_type": "code",
   "execution_count": 113,
   "metadata": {},
   "outputs": [
    {
     "data": {
      "text/plain": [
       "<matplotlib.axes._subplots.AxesSubplot at 0x1a4440a048>"
      ]
     },
     "execution_count": 113,
     "metadata": {},
     "output_type": "execute_result"
    },
    {
     "data": {
      "image/png": "[encoded data removed]",
      "text/plain": [
       "<Figure size 720x360 with 1 Axes>"
      ]
     },
     "metadata": {
      "needs_background": "light"
     },
     "output_type": "display_data"
    }
   ],
   "source": [
    "feat_importances.sort_values(ascending=False)[20:40].sort_values().plot(kind='barh', color='steelblue', figsize=(10,5))"
   ]
  },
  {
   "cell_type": "code",
   "execution_count": 114,
   "metadata": {},
   "outputs": [],
   "source": [
    "from xgboost import XGBClassifier"
   ]
  },
  {
   "cell_type": "code",
   "execution_count": 115,
   "metadata": {},
   "outputs": [],
   "source": [
    "xgb = XGBClassifier(n_estimators=100)"
   ]
  },
  {
   "cell_type": "code",
   "execution_count": 116,
   "metadata": {},
   "outputs": [
    {
     "data": {
      "text/plain": [
       "XGBClassifier(base_score=0.5, booster='gbtree', colsample_bylevel=1,\n",
       "              colsample_bynode=1, colsample_bytree=1, gamma=0,\n",
       "              learning_rate=0.1, max_delta_step=0, max_depth=3,\n",
       "              min_child_weight=1, missing=None, n_estimators=100, n_jobs=1,\n",
       "              nthread=None, objective='multi:softprob', random_state=0,\n",
       "              reg_alpha=0, reg_lambda=1, scale_pos_weight=1, seed=None,\n",
       "              silent=None, subsample=1, verbosity=1)"
      ]
     },
     "execution_count": 116,
     "metadata": {},
     "output_type": "execute_result"
    }
   ],
   "source": [
    "xgb.fit(X_train, y_train)"
   ]
  },
  {
   "cell_type": "code",
   "execution_count": 117,
   "metadata": {},
   "outputs": [],
   "source": [
    "preds = xgb.predict(X_test)"
   ]
  },
  {
   "cell_type": "code",
   "execution_count": 118,
   "metadata": {},
   "outputs": [],
   "source": [
    "rep = classification_report(y_test, preds)"
   ]
  },
  {
   "cell_type": "code",
   "execution_count": 119,
   "metadata": {},
   "outputs": [
    {
     "name": "stdout",
     "output_type": "stream",
     "text": [
      "              precision    recall  f1-score   support\n",
      "\n",
      "       Fatal       0.77      0.82      0.80     20198\n",
      "     Serious       0.79      0.62      0.70     19957\n",
      "      Slight       0.88      1.00      0.93     20245\n",
      "\n",
      "    accuracy                           0.82     60400\n",
      "   macro avg       0.81      0.82      0.81     60400\n",
      "weighted avg       0.81      0.82      0.81     60400\n",
      "\n"
     ]
    }
   ],
   "source": [
    "print(rep)"
   ]
  },
  {
   "cell_type": "code",
   "execution_count": 120,
   "metadata": {},
   "outputs": [],
   "source": [
    "acc_xgb = (preds == y_test).sum().astype(float) / len(preds)*100"
   ]
  },
  {
   "cell_type": "code",
   "execution_count": 121,
   "metadata": {},
   "outputs": [
    {
     "data": {
      "text/plain": [
       "81.6407284768212"
      ]
     },
     "execution_count": 121,
     "metadata": {},
     "output_type": "execute_result"
    }
   ],
   "source": [
    "acc_xgb"
   ]
  },
  {
   "cell_type": "code",
   "execution_count": 91,
   "metadata": {},
   "outputs": [],
   "source": [
    "from sklearn.svm import SVC"
   ]
  },
  {
   "cell_type": "code",
   "execution_count": 92,
   "metadata": {},
   "outputs": [],
   "source": [
    "svc = SVC()"
   ]
  },
  {
   "cell_type": "code",
   "execution_count": null,
   "metadata": {},
   "outputs": [],
   "source": [
    "svc.fit(X_train_scaled,y_train)"
   ]
  },
  {
   "cell_type": "code",
   "execution_count": null,
   "metadata": {},
   "outputs": [],
   "source": [
    "preds_svc = svc.predict(X_test)"
   ]
  },
  {
   "cell_type": "code",
   "execution_count": null,
   "metadata": {},
   "outputs": [],
   "source": [
    "params_grid = [{'kernel': ['rbf'], 'gamma': [1e-3, 1e-4],\n",
    "                     'C': [1, 10, 100, 1000]},\n",
    "                    {'kernel': ['linear'], 'C': [1, 10, 100, 1000]}]"
   ]
  },
  {
   "cell_type": "code",
   "execution_count": null,
   "metadata": {},
   "outputs": [],
   "source": [
    "from sklearn.model_selection import GridSearchCV"
   ]
  },
  {
   "cell_type": "code",
   "execution_count": null,
   "metadata": {},
   "outputs": [],
   "source": [
    "svm_model = GridSearchCV(svc, params_grid, cv=5)\n",
    "svm_model.fit(X_train_scaled, Y_train)"
   ]
  },
  {
   "cell_type": "code",
   "execution_count": 36,
   "metadata": {},
   "outputs": [],
   "source": [
    "from sklearn.linear_model import LogisticRegression"
   ]
  },
  {
   "cell_type": "code",
   "execution_count": 80,
   "metadata": {},
   "outputs": [],
   "source": [
    "from sklearn.preprocessing import StandardScaler"
   ]
  },
  {
   "cell_type": "code",
   "execution_count": 81,
   "metadata": {},
   "outputs": [],
   "source": [
    "scaler = StandardScaler().fit(X_train)"
   ]
  },
  {
   "cell_type": "code",
   "execution_count": 82,
   "metadata": {},
   "outputs": [],
   "source": [
    "X_train_scaled = scaler.transform(X_train)\n",
    "X_test_scaled = scaler.transform(X_test)"
   ]
  },
  {
   "cell_type": "code",
   "execution_count": 76,
   "metadata": {},
   "outputs": [
    {
     "data": {
      "text/plain": [
       "LogisticRegression(C=1.0, class_weight=None, dual=False, fit_intercept=True,\n",
       "                   intercept_scaling=1, l1_ratio=None, max_iter=100,\n",
       "                   multi_class='multinomial', n_jobs=-1, penalty='l1',\n",
       "                   random_state=10, solver='saga', tol=0.0001, verbose=0,\n",
       "                   warm_start=False)"
      ]
     },
     "execution_count": 76,
     "metadata": {},
     "output_type": "execute_result"
    }
   ],
   "source": [
    "lg_model = LogisticRegression(penalty='l1',solver='saga',multi_class='multinomial',random_state=10,n_jobs=-1)\n",
    "lg_model.fit(X_train,y_train)"
   ]
  },
  {
   "cell_type": "code",
   "execution_count": 83,
   "metadata": {},
   "outputs": [
    {
     "data": {
      "text/plain": [
       "LogisticRegression(C=1.0, class_weight=None, dual=False, fit_intercept=True,\n",
       "                   intercept_scaling=1, l1_ratio=None, max_iter=100,\n",
       "                   multi_class='multinomial', n_jobs=-1, penalty='l1',\n",
       "                   random_state=10, solver='saga', tol=0.0001, verbose=0,\n",
       "                   warm_start=False)"
      ]
     },
     "execution_count": 83,
     "metadata": {},
     "output_type": "execute_result"
    }
   ],
   "source": [
    "lg_model_scaled = LogisticRegression(penalty='l1',solver='saga',multi_class='multinomial',random_state=10,n_jobs=-1)\n",
    "lg_model_scaled.fit(X_train_scaled,y_train)"
   ]
  },
  {
   "cell_type": "code",
   "execution_count": 77,
   "metadata": {},
   "outputs": [],
   "source": [
    "lg_pred = lg_model.predict(X_test)"
   ]
  },
  {
   "cell_type": "code",
   "execution_count": 84,
   "metadata": {},
   "outputs": [],
   "source": [
    "lg_pred_scaled = lg_model_scaled.predict(X_test_scaled)"
   ]
  },
  {
   "cell_type": "code",
   "execution_count": 78,
   "metadata": {},
   "outputs": [],
   "source": [
    "acc_lg = (lg_pred == y_test).sum().astype(float) / len(lg_pred)*100"
   ]
  },
  {
   "cell_type": "code",
   "execution_count": 85,
   "metadata": {},
   "outputs": [],
   "source": [
    "acc_lg_scaled = (lg_pred_scaled == y_test).sum().astype(float) / len(lg_pred_scaled)*100"
   ]
  },
  {
   "cell_type": "code",
   "execution_count": 79,
   "metadata": {},
   "outputs": [
    {
     "data": {
      "text/plain": [
       "42.53156515524498"
      ]
     },
     "execution_count": 79,
     "metadata": {},
     "output_type": "execute_result"
    }
   ],
   "source": [
    "acc_lg"
   ]
  },
  {
   "cell_type": "code",
   "execution_count": 86,
   "metadata": {},
   "outputs": [
    {
     "data": {
      "text/plain": [
       "57.77945419412901"
      ]
     },
     "execution_count": 86,
     "metadata": {},
     "output_type": "execute_result"
    }
   ],
   "source": [
    "acc_lg_scaled"
   ]
  },
  {
   "cell_type": "code",
   "execution_count": 87,
   "metadata": {},
   "outputs": [
    {
     "data": {
      "text/plain": [
       "LogisticRegression(C=1.0, class_weight=None, dual=False, fit_intercept=True,\n",
       "                   intercept_scaling=1, l1_ratio=None, max_iter=100,\n",
       "                   multi_class='multinomial', n_jobs=-1, penalty='l2',\n",
       "                   random_state=10, solver='lbfgs', tol=0.0001, verbose=0,\n",
       "                   warm_start=False)"
      ]
     },
     "execution_count": 87,
     "metadata": {},
     "output_type": "execute_result"
    }
   ],
   "source": [
    "lg_model2 = LogisticRegression(penalty='l2',solver='lbfgs',\\\n",
    "            multi_class='multinomial',random_state=10,n_jobs=-1)\n",
    "lg_model2.fit(X_train_scaled,y_train)"
   ]
  },
  {
   "cell_type": "code",
   "execution_count": 88,
   "metadata": {},
   "outputs": [],
   "source": [
    "lg_pred2 = lg_model2.predict(X_test_scaled)"
   ]
  },
  {
   "cell_type": "code",
   "execution_count": 89,
   "metadata": {},
   "outputs": [],
   "source": [
    "acc_lg2 = (lg_pred2 == y_test).sum().astype(float) / len(lg_pred2)*100"
   ]
  },
  {
   "cell_type": "code",
   "execution_count": 90,
   "metadata": {},
   "outputs": [
    {
     "data": {
      "text/plain": [
       "57.83371714444533"
      ]
     },
     "execution_count": 90,
     "metadata": {},
     "output_type": "execute_result"
    }
   ],
   "source": [
    "acc_lg2 "
   ]
  },
  {
   "cell_type": "code",
   "execution_count": null,
   "metadata": {},
   "outputs": [],
   "source": []
  }
 ],
 "metadata": {
  "kernelspec": {
   "display_name": "Python 3",
   "language": "python",
   "name": "python3"
  },
  "language_info": {
   "codemirror_mode": {
    "name": "ipython",
    "version": 3
   },
   "file_extension": ".py",
   "mimetype": "text/x-python",
   "name": "python",
   "nbconvert_exporter": "python",
   "pygments_lexer": "ipython3",
   "version": "3.7.3"
  }
 },
 "nbformat": 4,
 "nbformat_minor": 2
}
